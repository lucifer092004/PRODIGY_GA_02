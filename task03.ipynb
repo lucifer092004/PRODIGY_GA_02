{
  "nbformat": 4,
  "nbformat_minor": 0,
  "metadata": {
    "colab": {
      "provenance": [],
      "authorship_tag": "ABX9TyPeBl1vdEH/+Q8mEWtCPUke",
      "include_colab_link": true
    },
    "kernelspec": {
      "name": "python3",
      "display_name": "Python 3"
    },
    "language_info": {
      "name": "python"
    }
  },
  "cells": [
    {
      "cell_type": "markdown",
      "metadata": {
        "id": "view-in-github",
        "colab_type": "text"
      },
      "source": [
        "<a href=\"https://colab.research.google.com/github/lucifer092004/PRODIGY_GA_02/blob/main/task03.ipynb\" target=\"_parent\"><img src=\"https://colab.research.google.com/assets/colab-badge.svg\" alt=\"Open In Colab\"/></a>"
      ]
    },
    {
      "cell_type": "code",
      "execution_count": 1,
      "metadata": {
        "colab": {
          "base_uri": "https://localhost:8080/"
        },
        "id": "BxDGTDEApWUh",
        "outputId": "edbfdcda-300b-44be-92f5-07b23ef35dd7"
      },
      "outputs": [
        {
          "output_type": "stream",
          "name": "stdout",
          "text": [
            "Requirement already satisfied: numpy in /usr/local/lib/python3.11/dist-packages (1.26.4)\n"
          ]
        }
      ],
      "source": [
        "!pip install numpy\n"
      ]
    },
    {
      "cell_type": "code",
      "source": [
        "text_data = \"\"\"Machine learning is amazing.\n",
        "It allows computers to learn from data.\n",
        "The more data we provide, the better it gets.\n",
        "Learning from data is a core idea in artificial intelligence.\"\"\"\n"
      ],
      "metadata": {
        "id": "gDPAb9NIp9BM"
      },
      "execution_count": 2,
      "outputs": []
    },
    {
      "cell_type": "code",
      "source": [
        "import numpy as np\n",
        "import random\n",
        "import re  # Added for text cleaning\n",
        "\n",
        "# Sample text data\n",
        "text_data = \"\"\"Machine learning is amazing.\n",
        "It allows computers to learn from data.\n",
        "The more data we provide, the better it gets.\n",
        "Learning from data is a core idea in artificial intelligence.\"\"\"\n",
        "\n",
        "# Preprocess text: Remove punctuation and convert to lowercase\n",
        "text_data = re.sub(r'[^\\w\\s]', '', text_data).lower()\n",
        "\n",
        "# Split text into words\n",
        "words = text_data.split()\n",
        "\n",
        "# Create a dictionary to store word transitions\n",
        "word_dict = {}\n",
        "\n",
        "for i in range(len(words) - 1):\n",
        "    current_word = words[i]\n",
        "    next_word = words[i + 1]\n",
        "\n",
        "    if current_word not in word_dict:\n",
        "        word_dict[current_word] = []\n",
        "\n",
        "    word_dict[current_word].append(next_word)\n",
        "\n",
        "# Function to generate text using Markov Chains\n",
        "def generate_markov_text(start_word, length=10):\n",
        "    if start_word not in word_dict:\n",
        "        return \"Word not in dataset.\"\n",
        "\n",
        "    result = [start_word]\n",
        "    current_word = start_word\n",
        "\n",
        "    for _ in range(length - 1):\n",
        "        if current_word not in word_dict:  # Prevent KeyError\n",
        "            break\n",
        "        next_word = random.choice(word_dict[current_word])\n",
        "        result.append(next_word)\n",
        "        current_word = next_word\n",
        "\n",
        "    return \" \".join(result)\n",
        "\n",
        "# Example: Generate a sentence starting with \"machine\"\n",
        "generated_text = generate_markov_text(\"machine\", 10)\n",
        "print(generated_text)\n"
      ],
      "metadata": {
        "colab": {
          "base_uri": "https://localhost:8080/"
        },
        "id": "taKDJ6oGtCoO",
        "outputId": "d3aa9bcc-1728-4fa5-ad47-13a35a09166b"
      },
      "execution_count": 5,
      "outputs": [
        {
          "output_type": "stream",
          "name": "stdout",
          "text": [
            "machine learning from data is amazing it gets learning is\n"
          ]
        }
      ]
    },
    {
      "cell_type": "code",
      "source": [
        "with open(\"generated_text.txt\", \"w\") as file:\n",
        "    file.write(generated_text)\n",
        "\n",
        "print(\"Text saved as 'generated_text.txt'\")\n"
      ],
      "metadata": {
        "colab": {
          "base_uri": "https://localhost:8080/"
        },
        "id": "sEFqCthz30tV",
        "outputId": "cc492cad-8071-4402-bbd5-3727d3133177"
      },
      "execution_count": 6,
      "outputs": [
        {
          "output_type": "stream",
          "name": "stdout",
          "text": [
            "Text saved as 'generated_text.txt'\n"
          ]
        }
      ]
    }
  ]
}